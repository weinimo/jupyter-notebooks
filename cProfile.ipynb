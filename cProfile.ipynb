{
 "cells": [
  {
   "cell_type": "code",
   "execution_count": 65,
   "metadata": {},
   "outputs": [],
   "source": [
    "\"\"\"Profiling code\"\"\"\n",
    "import cProfile, pstats, StringIO\n",
    "\n",
    "\n",
    "def profile_callable(call, *args, **kwargs):\n",
    "    \"\"\"Profiles given callable with given arguments\n",
    "    \n",
    "    Result can be analyzed in PyCharm using Tools->Open CProfile snapshot\n",
    "    \n",
    "    Or with snakeviz: \n",
    "    pip install snakeviz\n",
    "    snakeviz <.profile file>\n",
    "    \"\"\"\n",
    "    pr = cProfile.Profile()\n",
    "    pr.enable()\n",
    "\n",
    "    ret = call(*args, **kwargs)\n",
    "\n",
    "    pr.disable()\n",
    "    s = StringIO.StringIO()\n",
    "    ps = pstats.Stats(pr, stream=s).sort_stats('cumulative')\n",
    "    ps.dump_stats(\"{}.profile\".format(call.__name__))\n",
    "    print(\"Finished profiling {}\".format(call.__name__))\n",
    "    \n",
    "    return ret\n",
    "\n",
    "\n",
    "def profileit(func):\n",
    "    \"\"\"Decorator that profiles decorated code\"\"\"\n",
    "    def wrapper(*args, **kwargs):\n",
    "        datafn = func.__name__ + \".profile\" # Name the data file sensibly\n",
    "        prof = cProfile.Profile()\n",
    "        retval = prof.runcall(func, *args, **kwargs)\n",
    "        prof.dump_stats(datafn)\n",
    "        return retval\n",
    "\n",
    "    return wrapper"
   ]
  },
  {
   "cell_type": "code",
   "execution_count": 66,
   "metadata": {},
   "outputs": [],
   "source": [
    "\"\"\"Demo code\"\"\"\n",
    "from pprint import pprint \n",
    "\n",
    "import yaml\n",
    "from yaml import Loader\n",
    "#from yaml import CLoader\n",
    "\n",
    "def slow_function_loader():\n",
    "    with open(r\"C:\\Users\\tweining\\workspace\\automation\\chippackages\\Denali_A0\\data\\register_table.yaml\", 'r') as stream:\n",
    "        y = yaml.load(stream, Loader=Loader)\n",
    "    pprint(y[\"bank0\"][0])\n",
    "\n",
    "def slow_function_cloader():\n",
    "    with open(r\"C:\\Users\\tweining\\workspace\\automation\\chippackages\\Denali_A0\\data\\register_table.yaml\", 'r') as stream:\n",
    "        y = yaml.load(stream, Loader=CLoader)\n",
    "    pprint(y[\"bank0\"][0])\n",
    "    \n",
    "def slow_function():\n",
    "    with open(r\"C:\\Users\\tweining\\workspace\\automation\\chippackages\\Denali_A0\\data\\register_table.yaml\", 'r') as stream:\n",
    "        y = yaml.load(stream)\n",
    "    pprint(y[\"bank0\"][0])\n",
    "\n",
    "@profileit\n",
    "def decorated_slow_function():\n",
    "    with open(r\"C:\\Users\\tweining\\workspace\\automation\\chippackages\\Denali_A0\\data\\register_table.yaml\", 'r') as stream:\n",
    "        y = yaml.load(stream)\n",
    "    pprint(y[\"bank0\"][0])\n",
    "    "
   ]
  },
  {
   "cell_type": "code",
   "execution_count": 67,
   "metadata": {},
   "outputs": [],
   "source": [
    "#%time profile_callable(slow_function_loader)"
   ]
  },
  {
   "cell_type": "code",
   "execution_count": 68,
   "metadata": {},
   "outputs": [
    {
     "name": "stdout",
     "output_type": "stream",
     "text": [
      "{'POR': 0,\n",
      " 'access': '',\n",
      " 'address': 4352,\n",
      " 'bits': [{'access': 'R',\n",
      "           'customer': 1,\n",
      "           'desc': 'Read back of mask revision code (MRC) code 0 for TC release',\n",
      "           'name': 'MRC',\n",
      "           'reset': 'D',\n",
      "           'start': 0,\n",
      "           'stop': 7,\n",
      "           'test': 0,\n",
      "           'trim': 0}],\n",
      " 'block': 'sysctl',\n",
      " 'customer': 1,\n",
      " 'desc': '',\n",
      " 'name': 'SYSCTL_MASK_REV_CODE',\n",
      " 'otp': 0,\n",
      " 'otp_addr': ''}\n",
      "Finished profiling slow_function\n",
      "Wall time: 27 s\n"
     ]
    }
   ],
   "source": [
    "%time profile_callable(slow_function)"
   ]
  },
  {
   "cell_type": "code",
   "execution_count": 69,
   "metadata": {},
   "outputs": [
    {
     "name": "stdout",
     "output_type": "stream",
     "text": [
      "{'POR': 0,\n",
      " 'access': '',\n",
      " 'address': 4352,\n",
      " 'bits': [{'access': 'R',\n",
      "           'customer': 1,\n",
      "           'desc': 'Read back of mask revision code (MRC) code 0 for TC release',\n",
      "           'name': 'MRC',\n",
      "           'reset': 'D',\n",
      "           'start': 0,\n",
      "           'stop': 7,\n",
      "           'test': 0,\n",
      "           'trim': 0}],\n",
      " 'block': 'sysctl',\n",
      " 'customer': 1,\n",
      " 'desc': '',\n",
      " 'name': 'SYSCTL_MASK_REV_CODE',\n",
      " 'otp': 0,\n",
      " 'otp_addr': ''}\n",
      "Wall time: 26.3 s\n"
     ]
    }
   ],
   "source": [
    "%time decorated_slow_function()"
   ]
  }
 ],
 "metadata": {
  "kernelspec": {
   "display_name": "Python 2",
   "language": "python",
   "name": "python2"
  },
  "language_info": {
   "codemirror_mode": {
    "name": "ipython",
    "version": 2
   },
   "file_extension": ".py",
   "mimetype": "text/x-python",
   "name": "python",
   "nbconvert_exporter": "python",
   "pygments_lexer": "ipython2",
   "version": "2.7.13"
  }
 },
 "nbformat": 4,
 "nbformat_minor": 2
}
