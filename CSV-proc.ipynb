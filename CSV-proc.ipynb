{
 "cells": [
  {
   "cell_type": "code",
   "execution_count": 298,
   "metadata": {},
   "outputs": [],
   "source": [
    "import pandas as pd\n",
    "import numpy as np\n",
    "import matplotlib.pyplot as plt\n",
    "plt.style.use('default')\n",
    "import os\n",
    "\n",
    "csvfile = os.path.join(\"C:/\", \"temp\", \"ansel_gpio\", \"GPIO_RPU_RPD\", \"GPIO_RPU_RPD,GPIO1,Supply=ONBUF,ansel,CC=UNK.csv\")\n"
   ]
  },
  {
   "cell_type": "code",
   "execution_count": 299,
   "metadata": {
    "collapsed": true
   },
   "outputs": [],
   "source": [
    "%matplotlib inline"
   ]
  },
  {
   "cell_type": "code",
   "execution_count": 300,
   "metadata": {},
   "outputs": [
    {
     "data": {
      "text/html": [
       "<div>\n",
       "<style>\n",
       "    .dataframe thead tr:only-child th {\n",
       "        text-align: right;\n",
       "    }\n",
       "\n",
       "    .dataframe thead th {\n",
       "        text-align: left;\n",
       "    }\n",
       "\n",
       "    .dataframe tbody tr th {\n",
       "        vertical-align: top;\n",
       "    }\n",
       "</style>\n",
       "<table border=\"1\" class=\"dataframe\">\n",
       "  <thead>\n",
       "    <tr style=\"text-align: right;\">\n",
       "      <th></th>\n",
       "      <th>value</th>\n",
       "    </tr>\n",
       "    <tr>\n",
       "      <th>field</th>\n",
       "      <th></th>\n",
       "    </tr>\n",
       "  </thead>\n",
       "  <tbody>\n",
       "    <tr>\n",
       "      <th>CSV_VERSION</th>\n",
       "      <td>1.00</td>\n",
       "    </tr>\n",
       "    <tr>\n",
       "      <th>Path</th>\n",
       "      <td>P:\\measurement_results\\ansel\\run_10.08.2016_18...</td>\n",
       "    </tr>\n",
       "    <tr>\n",
       "      <th>block</th>\n",
       "      <td>GPIO1</td>\n",
       "    </tr>\n",
       "    <tr>\n",
       "      <th>current_temp</th>\n",
       "      <td>ambient</td>\n",
       "    </tr>\n",
       "    <tr>\n",
       "      <th>device</th>\n",
       "      <td>ansel</td>\n",
       "    </tr>\n",
       "    <tr>\n",
       "      <th>devicename</th>\n",
       "      <td>ansel</td>\n",
       "    </tr>\n",
       "    <tr>\n",
       "      <th>imax</th>\n",
       "      <td>2.0</td>\n",
       "    </tr>\n",
       "    <tr>\n",
       "      <th>interface_version</th>\n",
       "      <td>0.2</td>\n",
       "    </tr>\n",
       "    <tr>\n",
       "      <th>pmic_imax</th>\n",
       "      <td>1.9</td>\n",
       "    </tr>\n",
       "    <tr>\n",
       "      <th>pmic_vmin</th>\n",
       "      <td>2.9</td>\n",
       "    </tr>\n",
       "    <tr>\n",
       "      <th>script_file</th>\n",
       "      <td>P:\\Diasemi\\spec_compliance\\block_tests\\GPIO\\gp...</td>\n",
       "    </tr>\n",
       "    <tr>\n",
       "      <th>script_name</th>\n",
       "      <td>GPIO_RPU_RPD</td>\n",
       "    </tr>\n",
       "    <tr>\n",
       "      <th>short_name</th>\n",
       "      <td>GPIO_RPU_RPD</td>\n",
       "    </tr>\n",
       "    <tr>\n",
       "      <th>temperature</th>\n",
       "      <td>ambient</td>\n",
       "    </tr>\n",
       "    <tr>\n",
       "      <th>time</th>\n",
       "      <td>%d.%m.%Y %H.%M.%S</td>\n",
       "    </tr>\n",
       "    <tr>\n",
       "      <th>timestamp</th>\n",
       "      <td>10.08.2016 18.55.15</td>\n",
       "    </tr>\n",
       "    <tr>\n",
       "      <th>cond_Supply</th>\n",
       "      <td>ONBUF</td>\n",
       "    </tr>\n",
       "    <tr>\n",
       "      <th>TABLE:MeasGpioRpuRpd</th>\n",
       "      <td>NaN</td>\n",
       "    </tr>\n",
       "    <tr>\n",
       "      <th>supply_voltage</th>\n",
       "      <td>ohm_rpu_calc</td>\n",
       "    </tr>\n",
       "    <tr>\n",
       "      <th>[V]</th>\n",
       "      <td>[kOhm]</td>\n",
       "    </tr>\n",
       "    <tr>\n",
       "      <th>1.8023207068443299</th>\n",
       "      <td>207.9</td>\n",
       "    </tr>\n",
       "  </tbody>\n",
       "</table>\n",
       "</div>"
      ],
      "text/plain": [
       "                                                                  value\n",
       "field                                                                  \n",
       "CSV_VERSION                                                        1.00\n",
       "Path                  P:\\measurement_results\\ansel\\run_10.08.2016_18...\n",
       "block                                                             GPIO1\n",
       "current_temp                                                    ambient\n",
       "device                                                            ansel\n",
       "devicename                                                        ansel\n",
       "imax                                                                2.0\n",
       "interface_version                                                   0.2\n",
       "pmic_imax                                                           1.9\n",
       "pmic_vmin                                                           2.9\n",
       "script_file           P:\\Diasemi\\spec_compliance\\block_tests\\GPIO\\gp...\n",
       "script_name                                                GPIO_RPU_RPD\n",
       "short_name                                                 GPIO_RPU_RPD\n",
       "temperature                                                     ambient\n",
       "time                                                  %d.%m.%Y %H.%M.%S\n",
       "timestamp                                           10.08.2016 18.55.15\n",
       "cond_Supply                                                       ONBUF\n",
       "TABLE:MeasGpioRpuRpd                                                NaN\n",
       "supply_voltage                                             ohm_rpu_calc\n",
       "[V]                                                              [kOhm]\n",
       "1.8023207068443299                                                207.9"
      ]
     },
     "execution_count": 300,
     "metadata": {},
     "output_type": "execute_result"
    }
   ],
   "source": [
    "# must set names because CSV has a variable number of columns\n",
    "data_header = pd.read_csv(csvfile, sep=\";\", names=[\"field\", \"value\"], index_col=0, error_bad_lines=False, warn_bad_lines=False)\n",
    "data_header"
   ]
  },
  {
   "cell_type": "code",
   "execution_count": 301,
   "metadata": {},
   "outputs": [
    {
     "data": {
      "text/html": [
       "<div>\n",
       "<style>\n",
       "    .dataframe thead tr:only-child th {\n",
       "        text-align: right;\n",
       "    }\n",
       "\n",
       "    .dataframe thead th {\n",
       "        text-align: left;\n",
       "    }\n",
       "\n",
       "    .dataframe tbody tr th {\n",
       "        vertical-align: top;\n",
       "    }\n",
       "</style>\n",
       "<table border=\"1\" class=\"dataframe\">\n",
       "  <thead>\n",
       "    <tr style=\"text-align: right;\">\n",
       "      <th></th>\n",
       "      <th>supply_voltage</th>\n",
       "      <th>ohm_rpu_calc</th>\n",
       "      <th>ohm_rpd_calc</th>\n",
       "      <th>i_pmic_meas</th>\n",
       "      <th>v_pmic_meas</th>\n",
       "      <th>v_gpio_low_meas</th>\n",
       "      <th>i_pull_down_meas</th>\n",
       "      <th>v_gpio_high_meas</th>\n",
       "      <th>i_pull_up_meas</th>\n",
       "    </tr>\n",
       "  </thead>\n",
       "  <tbody>\n",
       "    <tr>\n",
       "      <th>0</th>\n",
       "      <td>1.802321</td>\n",
       "      <td>207.9</td>\n",
       "      <td>208.8</td>\n",
       "      <td>0.0004</td>\n",
       "      <td>3.801233</td>\n",
       "      <td>3.202277e-07</td>\n",
       "      <td>-0.000009</td>\n",
       "      <td>1.802316</td>\n",
       "      <td>0.000009</td>\n",
       "    </tr>\n",
       "  </tbody>\n",
       "</table>\n",
       "</div>"
      ],
      "text/plain": [
       "   supply_voltage  ohm_rpu_calc  ohm_rpd_calc  i_pmic_meas  v_pmic_meas  \\\n",
       "0        1.802321         207.9         208.8       0.0004     3.801233   \n",
       "\n",
       "   v_gpio_low_meas  i_pull_down_meas  v_gpio_high_meas  i_pull_up_meas  \n",
       "0     3.202277e-07         -0.000009          1.802316        0.000009  "
      ]
     },
     "execution_count": 301,
     "metadata": {},
     "output_type": "execute_result"
    }
   ],
   "source": [
    "data = pd.read_csv(csvfile, sep=\";\", skiprows=list(range(18))+[19])\n",
    "data"
   ]
  },
  {
   "cell_type": "code",
   "execution_count": 302,
   "metadata": {},
   "outputs": [
    {
     "name": "stdout",
     "output_type": "stream",
     "text": [
      "<class 'pandas.core.frame.DataFrame'>\n",
      "RangeIndex: 1 entries, 0 to 0\n",
      "Data columns (total 9 columns):\n",
      "supply_voltage      1 non-null float64\n",
      "ohm_rpu_calc        1 non-null float64\n",
      "ohm_rpd_calc        1 non-null float64\n",
      "i_pmic_meas         1 non-null float64\n",
      "v_pmic_meas         1 non-null float64\n",
      "v_gpio_low_meas     1 non-null float64\n",
      "i_pull_down_meas    1 non-null float64\n",
      "v_gpio_high_meas    1 non-null float64\n",
      "i_pull_up_meas      1 non-null float64\n",
      "dtypes: float64(9)\n",
      "memory usage: 108.0 bytes\n"
     ]
    }
   ],
   "source": [
    "data.info()"
   ]
  },
  {
   "cell_type": "code",
   "execution_count": 303,
   "metadata": {},
   "outputs": [
    {
     "data": {
      "text/plain": [
       "0    1.802321\n",
       "Name: supply_voltage, dtype: float64"
      ]
     },
     "execution_count": 303,
     "metadata": {},
     "output_type": "execute_result"
    }
   ],
   "source": [
    "data[\"supply_voltage\"]"
   ]
  },
  {
   "cell_type": "code",
   "execution_count": 304,
   "metadata": {},
   "outputs": [
    {
     "data": {
      "text/html": [
       "<div>\n",
       "<style>\n",
       "    .dataframe thead tr:only-child th {\n",
       "        text-align: right;\n",
       "    }\n",
       "\n",
       "    .dataframe thead th {\n",
       "        text-align: left;\n",
       "    }\n",
       "\n",
       "    .dataframe tbody tr th {\n",
       "        vertical-align: top;\n",
       "    }\n",
       "</style>\n",
       "<table border=\"1\" class=\"dataframe\">\n",
       "  <thead>\n",
       "    <tr style=\"text-align: right;\">\n",
       "      <th></th>\n",
       "      <th>value</th>\n",
       "    </tr>\n",
       "    <tr>\n",
       "      <th>field</th>\n",
       "      <th></th>\n",
       "    </tr>\n",
       "  </thead>\n",
       "  <tbody>\n",
       "    <tr>\n",
       "      <th>script_name</th>\n",
       "      <td>GPIO_RPU_RPD</td>\n",
       "    </tr>\n",
       "    <tr>\n",
       "      <th>short_name</th>\n",
       "      <td>GPIO_RPU_RPD</td>\n",
       "    </tr>\n",
       "    <tr>\n",
       "      <th>temperature</th>\n",
       "      <td>ambient</td>\n",
       "    </tr>\n",
       "    <tr>\n",
       "      <th>time</th>\n",
       "      <td>%d.%m.%Y %H.%M.%S</td>\n",
       "    </tr>\n",
       "    <tr>\n",
       "      <th>timestamp</th>\n",
       "      <td>10.08.2016 18.55.15</td>\n",
       "    </tr>\n",
       "  </tbody>\n",
       "</table>\n",
       "</div>"
      ],
      "text/plain": [
       "                           value\n",
       "field                           \n",
       "script_name         GPIO_RPU_RPD\n",
       "short_name          GPIO_RPU_RPD\n",
       "temperature              ambient\n",
       "time           %d.%m.%Y %H.%M.%S\n",
       "timestamp    10.08.2016 18.55.15"
      ]
     },
     "execution_count": 304,
     "metadata": {},
     "output_type": "execute_result"
    }
   ],
   "source": [
    "# .loc allows label indexing\n",
    "data_header.loc[\"script_name\":\"timestamp\"]"
   ]
  },
  {
   "cell_type": "code",
   "execution_count": 305,
   "metadata": {},
   "outputs": [
    {
     "data": {
      "text/html": [
       "<div>\n",
       "<style>\n",
       "    .dataframe thead tr:only-child th {\n",
       "        text-align: right;\n",
       "    }\n",
       "\n",
       "    .dataframe thead th {\n",
       "        text-align: left;\n",
       "    }\n",
       "\n",
       "    .dataframe tbody tr th {\n",
       "        vertical-align: top;\n",
       "    }\n",
       "</style>\n",
       "<table border=\"1\" class=\"dataframe\">\n",
       "  <thead>\n",
       "    <tr style=\"text-align: right;\">\n",
       "      <th></th>\n",
       "      <th>supply_voltage</th>\n",
       "      <th>ohm_rpu_calc</th>\n",
       "      <th>ohm_rpd_calc</th>\n",
       "      <th>i_pmic_meas</th>\n",
       "      <th>v_pmic_meas</th>\n",
       "      <th>v_gpio_low_meas</th>\n",
       "      <th>i_pull_down_meas</th>\n",
       "      <th>v_gpio_high_meas</th>\n",
       "      <th>i_pull_up_meas</th>\n",
       "    </tr>\n",
       "  </thead>\n",
       "  <tbody>\n",
       "    <tr>\n",
       "      <th>0</th>\n",
       "      <td>1.802321</td>\n",
       "      <td>207.9</td>\n",
       "      <td>208.8</td>\n",
       "      <td>0.0004</td>\n",
       "      <td>3.801233</td>\n",
       "      <td>3.202277e-07</td>\n",
       "      <td>-0.000009</td>\n",
       "      <td>1.802316</td>\n",
       "      <td>0.000009</td>\n",
       "    </tr>\n",
       "  </tbody>\n",
       "</table>\n",
       "</div>"
      ],
      "text/plain": [
       "   supply_voltage  ohm_rpu_calc  ohm_rpd_calc  i_pmic_meas  v_pmic_meas  \\\n",
       "0        1.802321         207.9         208.8       0.0004     3.801233   \n",
       "\n",
       "   v_gpio_low_meas  i_pull_down_meas  v_gpio_high_meas  i_pull_up_meas  \n",
       "0     3.202277e-07         -0.000009          1.802316        0.000009  "
      ]
     },
     "execution_count": 305,
     "metadata": {},
     "output_type": "execute_result"
    }
   ],
   "source": [
    "# rows!\n",
    "data[:]"
   ]
  },
  {
   "cell_type": "code",
   "execution_count": 306,
   "metadata": {},
   "outputs": [
    {
     "data": {
      "text/html": [
       "<div>\n",
       "<style>\n",
       "    .dataframe thead tr:only-child th {\n",
       "        text-align: right;\n",
       "    }\n",
       "\n",
       "    .dataframe thead th {\n",
       "        text-align: left;\n",
       "    }\n",
       "\n",
       "    .dataframe tbody tr th {\n",
       "        vertical-align: top;\n",
       "    }\n",
       "</style>\n",
       "<table border=\"1\" class=\"dataframe\">\n",
       "  <thead>\n",
       "    <tr style=\"text-align: right;\">\n",
       "      <th></th>\n",
       "      <th>supply_voltage</th>\n",
       "      <th>ohm_rpu_calc</th>\n",
       "      <th>ohm_rpd_calc</th>\n",
       "      <th>i_pmic_meas</th>\n",
       "    </tr>\n",
       "  </thead>\n",
       "  <tbody>\n",
       "    <tr>\n",
       "      <th>0</th>\n",
       "      <td>1.802321</td>\n",
       "      <td>207.9</td>\n",
       "      <td>208.8</td>\n",
       "      <td>0.0004</td>\n",
       "    </tr>\n",
       "  </tbody>\n",
       "</table>\n",
       "</div>"
      ],
      "text/plain": [
       "   supply_voltage  ohm_rpu_calc  ohm_rpd_calc  i_pmic_meas\n",
       "0        1.802321         207.9         208.8       0.0004"
      ]
     },
     "execution_count": 306,
     "metadata": {},
     "output_type": "execute_result"
    }
   ],
   "source": [
    "# segment iloc[rowrange, colrange]\n",
    "# .iloc allows positional indexing\n",
    "data.iloc[:, :4]"
   ]
  },
  {
   "cell_type": "code",
   "execution_count": 307,
   "metadata": {},
   "outputs": [
    {
     "data": {
      "text/plain": [
       "supply_voltage      1.802321e+00\n",
       "ohm_rpu_calc        2.079000e+02\n",
       "ohm_rpd_calc        2.088000e+02\n",
       "i_pmic_meas         4.000000e-04\n",
       "v_pmic_meas         3.801233e+00\n",
       "v_gpio_low_meas     3.202277e-07\n",
       "i_pull_down_meas   -8.668035e-06\n",
       "v_gpio_high_meas    1.802316e+00\n",
       "i_pull_up_meas      8.632121e-06\n",
       "Name: 0, dtype: float64"
      ]
     },
     "execution_count": 307,
     "metadata": {},
     "output_type": "execute_result"
    }
   ],
   "source": [
    "data.iloc[0, :]"
   ]
  },
  {
   "cell_type": "code",
   "execution_count": 308,
   "metadata": {},
   "outputs": [
    {
     "data": {
      "text/plain": [
       "supply_voltage       True\n",
       "ohm_rpu_calc         True\n",
       "ohm_rpd_calc         True\n",
       "i_pmic_meas         False\n",
       "v_pmic_meas          True\n",
       "v_gpio_low_meas     False\n",
       "i_pull_down_meas    False\n",
       "v_gpio_high_meas     True\n",
       "i_pull_up_meas      False\n",
       "Name: 0, dtype: bool"
      ]
     },
     "execution_count": 308,
     "metadata": {},
     "output_type": "execute_result"
    }
   ],
   "source": [
    "data.iloc[0, :] > 1.5"
   ]
  },
  {
   "cell_type": "code",
   "execution_count": 309,
   "metadata": {},
   "outputs": [
    {
     "data": {
      "text/html": [
       "<div>\n",
       "<style>\n",
       "    .dataframe thead tr:only-child th {\n",
       "        text-align: right;\n",
       "    }\n",
       "\n",
       "    .dataframe thead th {\n",
       "        text-align: left;\n",
       "    }\n",
       "\n",
       "    .dataframe tbody tr th {\n",
       "        vertical-align: top;\n",
       "    }\n",
       "</style>\n",
       "<table border=\"1\" class=\"dataframe\">\n",
       "  <thead>\n",
       "    <tr style=\"text-align: right;\">\n",
       "      <th></th>\n",
       "      <th>supply_voltage</th>\n",
       "      <th>ohm_rpu_calc</th>\n",
       "      <th>ohm_rpd_calc</th>\n",
       "      <th>v_pmic_meas</th>\n",
       "      <th>v_gpio_high_meas</th>\n",
       "    </tr>\n",
       "  </thead>\n",
       "  <tbody>\n",
       "    <tr>\n",
       "      <th>0</th>\n",
       "      <td>1.802321</td>\n",
       "      <td>207.9</td>\n",
       "      <td>208.8</td>\n",
       "      <td>3.801233</td>\n",
       "      <td>1.802316</td>\n",
       "    </tr>\n",
       "  </tbody>\n",
       "</table>\n",
       "</div>"
      ],
      "text/plain": [
       "   supply_voltage  ohm_rpu_calc  ohm_rpd_calc  v_pmic_meas  v_gpio_high_meas\n",
       "0        1.802321         207.9         208.8     3.801233          1.802316"
      ]
     },
     "execution_count": 309,
     "metadata": {},
     "output_type": "execute_result"
    }
   ],
   "source": [
    "# Show only columns with values > 1.5\n",
    "data.loc[:, data.iloc[0, :] > 1.5]"
   ]
  },
  {
   "cell_type": "code",
   "execution_count": 310,
   "metadata": {},
   "outputs": [
    {
     "data": {
      "text/plain": [
       "supply_voltage      1.700000e+00\n",
       "ohm_rpu_calc        2.000000e+02\n",
       "ohm_rpd_calc        1.400000e+02\n",
       "i_pmic_meas         2.000000e-02\n",
       "v_pmic_meas         3.000000e+00\n",
       "v_gpio_low_meas     5.000000e-07\n",
       "i_pull_down_meas   -3.000000e-06\n",
       "v_gpio_high_meas    2.000000e+00\n",
       "i_pull_up_meas      9.000000e-06\n",
       "dtype: float64"
      ]
     },
     "execution_count": 310,
     "metadata": {},
     "output_type": "execute_result"
    }
   ],
   "source": [
    "newrow = pd.Series([1.7, 200, 140, 0.02, 3, 5e-7, -3e-6, 2, 9e-6], index=list(data.columns))\n",
    "newrow\n"
   ]
  },
  {
   "cell_type": "code",
   "execution_count": 311,
   "metadata": {},
   "outputs": [
    {
     "data": {
      "text/html": [
       "<div>\n",
       "<style>\n",
       "    .dataframe thead tr:only-child th {\n",
       "        text-align: right;\n",
       "    }\n",
       "\n",
       "    .dataframe thead th {\n",
       "        text-align: left;\n",
       "    }\n",
       "\n",
       "    .dataframe tbody tr th {\n",
       "        vertical-align: top;\n",
       "    }\n",
       "</style>\n",
       "<table border=\"1\" class=\"dataframe\">\n",
       "  <thead>\n",
       "    <tr style=\"text-align: right;\">\n",
       "      <th></th>\n",
       "      <th>supply_voltage</th>\n",
       "      <th>ohm_rpu_calc</th>\n",
       "      <th>ohm_rpd_calc</th>\n",
       "      <th>i_pmic_meas</th>\n",
       "      <th>v_pmic_meas</th>\n",
       "      <th>v_gpio_low_meas</th>\n",
       "      <th>i_pull_down_meas</th>\n",
       "      <th>v_gpio_high_meas</th>\n",
       "      <th>i_pull_up_meas</th>\n",
       "    </tr>\n",
       "  </thead>\n",
       "  <tbody>\n",
       "    <tr>\n",
       "      <th>0</th>\n",
       "      <td>1.802321</td>\n",
       "      <td>207.9</td>\n",
       "      <td>208.80</td>\n",
       "      <td>0.00040</td>\n",
       "      <td>3.801233</td>\n",
       "      <td>3.202277e-07</td>\n",
       "      <td>-0.000009</td>\n",
       "      <td>1.802316</td>\n",
       "      <td>0.000009</td>\n",
       "    </tr>\n",
       "    <tr>\n",
       "      <th>1</th>\n",
       "      <td>1.700000</td>\n",
       "      <td>200.0</td>\n",
       "      <td>140.00</td>\n",
       "      <td>0.02000</td>\n",
       "      <td>3.000000</td>\n",
       "      <td>5.000000e-07</td>\n",
       "      <td>-0.000003</td>\n",
       "      <td>2.000000</td>\n",
       "      <td>0.000009</td>\n",
       "    </tr>\n",
       "    <tr>\n",
       "      <th>2</th>\n",
       "      <td>1.477300</td>\n",
       "      <td>173.8</td>\n",
       "      <td>121.66</td>\n",
       "      <td>0.01738</td>\n",
       "      <td>2.607000</td>\n",
       "      <td>4.345000e-07</td>\n",
       "      <td>-0.000003</td>\n",
       "      <td>1.738000</td>\n",
       "      <td>0.000008</td>\n",
       "    </tr>\n",
       "    <tr>\n",
       "      <th>3</th>\n",
       "      <td>2.628200</td>\n",
       "      <td>309.2</td>\n",
       "      <td>216.44</td>\n",
       "      <td>0.03092</td>\n",
       "      <td>4.638000</td>\n",
       "      <td>7.730000e-07</td>\n",
       "      <td>-0.000005</td>\n",
       "      <td>3.092000</td>\n",
       "      <td>0.000014</td>\n",
       "    </tr>\n",
       "  </tbody>\n",
       "</table>\n",
       "</div>"
      ],
      "text/plain": [
       "   supply_voltage  ohm_rpu_calc  ohm_rpd_calc  i_pmic_meas  v_pmic_meas  \\\n",
       "0        1.802321         207.9        208.80      0.00040     3.801233   \n",
       "1        1.700000         200.0        140.00      0.02000     3.000000   \n",
       "2        1.477300         173.8        121.66      0.01738     2.607000   \n",
       "3        2.628200         309.2        216.44      0.03092     4.638000   \n",
       "\n",
       "   v_gpio_low_meas  i_pull_down_meas  v_gpio_high_meas  i_pull_up_meas  \n",
       "0     3.202277e-07         -0.000009          1.802316        0.000009  \n",
       "1     5.000000e-07         -0.000003          2.000000        0.000009  \n",
       "2     4.345000e-07         -0.000003          1.738000        0.000008  \n",
       "3     7.730000e-07         -0.000005          3.092000        0.000014  "
      ]
     },
     "execution_count": 311,
     "metadata": {},
     "output_type": "execute_result"
    }
   ],
   "source": [
    "data = data.append(newrow, ignore_index=True)\n",
    "data = data.append(newrow * 0.869, ignore_index=True)\n",
    "data = data.append(newrow * 1.546, ignore_index=True)\n",
    "data"
   ]
  },
  {
   "cell_type": "code",
   "execution_count": 312,
   "metadata": {},
   "outputs": [
    {
     "data": {
      "text/plain": [
       "<matplotlib.axes._subplots.AxesSubplot at 0xd9578f0>"
      ]
     },
     "execution_count": 312,
     "metadata": {},
     "output_type": "execute_result"
    },
    {
     "data": {
      "image/png": "[encoded data removed]",
      "text/plain": [
       "<matplotlib.figure.Figure at 0xda85bd0>"
      ]
     },
     "metadata": {},
     "output_type": "display_data"
    }
   ],
   "source": [
    "data.plot.bar()"
   ]
  },
  {
   "cell_type": "code",
   "execution_count": 317,
   "metadata": {},
   "outputs": [
    {
     "data": {
      "text/plain": [
       "<matplotlib.lines.Line2D at 0xe1bd6b0>"
      ]
     },
     "execution_count": 317,
     "metadata": {},
     "output_type": "execute_result"
    },
    {
     "data": {
      "image/png": "[encoded data removed]",
      "text/plain": [
       "<matplotlib.figure.Figure at 0xe056c90>"
      ]
     },
     "metadata": {},
     "output_type": "display_data"
    }
   ],
   "source": [
    "ax = data[[\"supply_voltage\", \"v_pmic_meas\"]].plot.bar()\n",
    "ax.axhline(data[\"supply_voltage\"].median(), color='cyan', linestyle='-')\n",
    "ax.axhline(data[\"v_pmic_meas\"].median(), color='red', linestyle='-')"
   ]
  },
  {
   "cell_type": "code",
   "execution_count": null,
   "metadata": {},
   "outputs": [],
   "source": []
  }
 ],
 "metadata": {
  "kernelspec": {
   "display_name": "Python 2",
   "language": "python",
   "name": "python2"
  },
  "language_info": {
   "codemirror_mode": {
    "name": "ipython",
    "version": 2
   },
   "file_extension": ".py",
   "mimetype": "text/x-python",
   "name": "python",
   "nbconvert_exporter": "python",
   "pygments_lexer": "ipython2",
   "version": "2.7.13"
  }
 },
 "nbformat": 4,
 "nbformat_minor": 2
}
